{
 "cells": [
  {
   "cell_type": "code",
   "execution_count": 30,
   "metadata": {},
   "outputs": [],
   "source": [
    "import pickle"
   ]
  },
  {
   "cell_type": "code",
   "execution_count": 31,
   "metadata": {},
   "outputs": [],
   "source": [
    "import face_recognition\n",
    "import pickle\n",
    "import cv2\n",
    "import base64\n",
    "import os\n",
    "import io\n",
    "from flask import Flask,request,jsonify\n",
    "import numpy as np\n",
    "from PIL import Image"
   ]
  },
  {
   "cell_type": "code",
   "execution_count": 32,
   "metadata": {},
   "outputs": [],
   "source": [
    "data = pickle.loads(open('face_enc (1)', \"rb\").read())"
   ]
  },
  {
   "cell_type": "code",
   "execution_count": 33,
   "metadata": {},
   "outputs": [
    {
     "data": {
      "text/plain": [
       "array([-1.40422031e-01,  1.41348988e-01,  4.67264913e-02, -2.43981890e-02,\n",
       "       -7.39150941e-02,  2.76790801e-02, -1.03595912e-01, -4.18067910e-02,\n",
       "        1.69063315e-01, -1.21135190e-01,  1.18145213e-01, -9.00477543e-03,\n",
       "       -1.88783675e-01, -6.83860183e-02, -3.49095091e-03,  8.72873887e-02,\n",
       "       -1.41506284e-01, -1.77093625e-01, -1.27987847e-01, -8.39177743e-02,\n",
       "       -4.87026647e-02,  3.48472819e-02,  3.27109918e-03,  1.65909082e-02,\n",
       "       -1.89315468e-01, -3.91346246e-01, -3.11892256e-02, -1.70697689e-01,\n",
       "        5.64899296e-04, -1.08951047e-01, -4.32581455e-02, -6.26988197e-03,\n",
       "       -1.32605582e-01, -2.76005119e-02,  1.09529868e-03,  9.98682603e-02,\n",
       "       -4.71470878e-02, -2.74711195e-02,  2.14020342e-01, -1.30185336e-02,\n",
       "       -1.74861908e-01, -2.90509891e-02,  8.58195722e-02,  2.54015923e-01,\n",
       "        2.50192344e-01,  1.12074465e-01,  1.48778278e-02, -2.11099684e-02,\n",
       "        1.58510402e-01, -2.44570896e-01,  1.12004444e-01,  1.41313478e-01,\n",
       "        8.84749144e-02,  4.13970686e-02,  1.99236929e-01, -1.18683875e-01,\n",
       "       -1.20401122e-02,  1.47877075e-02, -1.14454761e-01,  2.18098052e-02,\n",
       "        1.73999667e-02, -1.08923977e-02, -7.37800971e-02, -2.04491708e-02,\n",
       "        2.31759608e-01,  1.04509830e-01, -6.91680759e-02, -5.88324480e-02,\n",
       "        1.83801055e-01, -2.10823536e-01, -5.28482720e-02,  6.60042390e-02,\n",
       "       -6.25430569e-02, -1.48312196e-01, -2.50781268e-01,  3.78145836e-02,\n",
       "        4.55642372e-01,  2.16842517e-01, -1.34531423e-01,  2.72336509e-02,\n",
       "        2.10430510e-02, -9.80503410e-02,  9.61794257e-02,  8.49593133e-02,\n",
       "       -1.53734118e-01, -2.62126401e-02, -4.10964303e-02,  6.16210364e-02,\n",
       "        2.25697845e-01,  6.35503605e-02, -5.46671450e-02,  9.99092013e-02,\n",
       "        2.23287046e-02,  1.54396538e-02,  4.11031805e-02, -3.05500291e-02,\n",
       "       -9.94924530e-02, -4.49623242e-02, -1.22140706e-01, -3.86391990e-02,\n",
       "        1.32667795e-01,  2.07539322e-03, -1.52858943e-02,  1.09547354e-01,\n",
       "       -1.24110535e-01,  8.79248381e-02, -1.10362917e-02, -5.66658303e-02,\n",
       "        1.44186579e-02,  9.57760960e-02, -1.18598327e-01, -5.31570837e-02,\n",
       "        1.56661347e-01, -1.84327140e-01,  1.10558435e-01,  1.16889358e-01,\n",
       "       -3.75455469e-02,  1.24209896e-01,  9.95713472e-02,  5.59213795e-02,\n",
       "        3.62383835e-02,  4.06962708e-02, -1.63362116e-01, -1.51362628e-01,\n",
       "        4.41378169e-02, -8.21202993e-05,  1.29576206e-01,  3.06282826e-02])"
      ]
     },
     "execution_count": 33,
     "metadata": {},
     "output_type": "execute_result"
    }
   ],
   "source": [
    "data['encodings'][0]"
   ]
  },
  {
   "cell_type": "code",
   "execution_count": 34,
   "metadata": {},
   "outputs": [
    {
     "ename": "NameError",
     "evalue": "name 'file' is not defined",
     "output_type": "error",
     "traceback": [
      "\u001b[1;31m---------------------------------------------------------------------------\u001b[0m",
      "\u001b[1;31mNameError\u001b[0m                                 Traceback (most recent call last)",
      "\u001b[1;32mc:\\Users\\acer\\OneDrive\\Desktop\\dfvffdsvd\\Face-of-Campus\\Untitled-1.ipynb Cell 5'\u001b[0m in \u001b[0;36m<cell line: 1>\u001b[1;34m()\u001b[0m\n\u001b[1;32m----> <a href='vscode-notebook-cell:/c%3A/Users/acer/OneDrive/Desktop/dfvffdsvd/Face-of-Campus/Untitled-1.ipynb#ch0000032?line=0'>1</a>\u001b[0m image \u001b[39m=\u001b[39m base64\u001b[39m.\u001b[39mb64decode(\u001b[39mstr\u001b[39m(file))\n\u001b[0;32m      <a href='vscode-notebook-cell:/c%3A/Users/acer/OneDrive/Desktop/dfvffdsvd/Face-of-Campus/Untitled-1.ipynb#ch0000032?line=1'>2</a>\u001b[0m image \u001b[39m=\u001b[39m Image\u001b[39m.\u001b[39mopen(io\u001b[39m.\u001b[39mBytesIO(image))\n\u001b[0;32m      <a href='vscode-notebook-cell:/c%3A/Users/acer/OneDrive/Desktop/dfvffdsvd/Face-of-Campus/Untitled-1.ipynb#ch0000032?line=2'>3</a>\u001b[0m image\u001b[39m=\u001b[39m np\u001b[39m.\u001b[39marray(image)\n",
      "\u001b[1;31mNameError\u001b[0m: name 'file' is not defined"
     ]
    }
   ],
   "source": [
    "image = base64.b64decode(str(file))\n",
    "image = Image.open(io.BytesIO(image))\n",
    "image= np.array(image)"
   ]
  },
  {
   "cell_type": "code",
   "execution_count": 35,
   "metadata": {},
   "outputs": [],
   "source": [
    "def predict_rana(image):\n",
    "    print('Shape of image ',image.shape)\n",
    "    cascPathface = os.path.dirname(cv2.__file__) + \"/data/haarcascade_frontalface_alt2.xml\"\n",
    "    faceCascade = cv2.CascadeClassifier(cascPathface)\n",
    "    data = pickle.loads(open('face_enc (1)', \"rb\").read())\n",
    "    data1 = pickle.loads(open('user_data (1)', \"rb\").read())\n",
    "\n",
    "    rgb = cv2.cvtColor(image, cv2.COLOR_BGR2RGB)\n",
    "    gray = cv2.cvtColor(image, cv2.COLOR_BGR2GRAY)\n",
    "    faces = faceCascade.detectMultiScale(gray,\n",
    "                                         scaleFactor=1.1,\n",
    "                                         minNeighbors=5,\n",
    "                                         minSize=(60, 60),\n",
    "                                         flags=cv2.CASCADE_SCALE_IMAGE)\n",
    "\n",
    "    encodings = face_recognition.face_encodings(rgb)\n",
    "    names = []\n",
    "\n",
    "    print(len(data[\"encodings\"][0]))\n",
    "\n",
    "    for encoding in encodings:\n",
    "        print(\"in detection\")\n",
    "        print('Shape of encoding = ',encoding.shape)\n",
    "        print('shape of data = ',len(data['encodings']))\n",
    "        print(type(encoding),type(data['encodings']))\n",
    "        matches = face_recognition.compare_faces(data[\"encodings\"],\n",
    "                                                 encoding)\n",
    "\n",
    "        print(matches[0]) \n",
    "\n",
    "        name = \"Unknown\"\n",
    "        if True in matches:\n",
    "            matchedIdxs = [i for (i, b) in enumerate(matches) if b]\n",
    "            counts = {}\n",
    "            for i in matchedIdxs:\n",
    "                name = data[\"names\"][i]\n",
    "                counts[name] = counts.get(name, 0) + 1\n",
    "                name = max(counts, key=counts.get)\n",
    "\n",
    "            names.append(name)\n",
    "            \"\"\"for ((x, y, w, h), name) in zip(faces, names):\n",
    "                cv2.rectangle(image, (x, y), (x + w, y + h), (0, 255, 0), 2)\n",
    "                cv2.putText(image, name, (x, y), cv2.FONT_HERSHEY_SIMPLEX,\n",
    "                            0.75, (0, 255, 0), 2)\"\"\"\n",
    "\n",
    "    fin_name=max(set(names),key=names.count)\n",
    "    index=data1[\"name\"].index(fin_name)\n",
    "    place=data1[\"place\"][index]\n",
    "    branch=data1[\"branch\"][index]\n",
    "    year=data1['year'][index]\n",
    "    studying=data1['studying'][index]\n",
    "    img = data1[\"image\"][index]\n",
    "    rawBytes = io.BytesIO()\n",
    "    img.save(rawBytes, \"JPEG\")\n",
    "    rawBytes.seek(0)\n",
    "    img_base64 = base64.b64encode(rawBytes.read())\n",
    "    result={'name':fin_name,'place':place,'branch':branch,'image':str(img_base64),'year':year}\n",
    "\n",
    "    return result"
   ]
  },
  {
   "cell_type": "code",
   "execution_count": 36,
   "metadata": {},
   "outputs": [
    {
     "name": "stdout",
     "output_type": "stream",
     "text": [
      "Shape of image  (990, 999, 3)\n",
      "128\n",
      "in detection\n",
      "Shape of encoding =  (128,)\n",
      "shape of data =  584\n",
      "<class 'numpy.ndarray'> <class 'list'>\n",
      "False\n"
     ]
    },
    {
     "data": {
      "text/plain": [
       "{'name': 'Abdullah',\n",
       " 'place': 'Ranchi Jharkhand',\n",
       " 'branch': 'Computer Science and Engineering',\n",
       " 'image': \"b'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'\",\n",
       " 'year': '2'}"
      ]
     },
     "execution_count": 36,
     "metadata": {},
     "output_type": "execute_result"
    }
   ],
   "source": [
    "predict_rana(img)"
   ]
  },
  {
   "cell_type": "code",
   "execution_count": 6,
   "metadata": {},
   "outputs": [],
   "source": [
    "img=cv2.imread(r\"C:\\Users\\acer\\OneDrive\\Desktop\\Face-of-Campus\\Images\\Prakhar Pratap Mall\\2105030.jpg\")"
   ]
  },
  {
   "cell_type": "code",
   "execution_count": 149,
   "metadata": {},
   "outputs": [],
   "source": [
    "def reset():\n",
    "    dat={'encodings':[],'names':[]}\n",
    "\n",
    "    for fol in list(os.listdir('Images/')):\n",
    "        pat='Images/'+fol+'/'\n",
    "        for image in list(os.listdir(pat)):\n",
    "            img_pat=pat+image\n",
    "            print(img_pat)\n",
    "            img=cv2.imread(img_pat)\n",
    "            print(img.shape)\n",
    "            rgb = cv2.cvtColor(img, cv2.COLOR_BGR2RGB)\n",
    "            gray = cv2.cvtColor(img, cv2.COLOR_BGR2GRAY)\n",
    "            cascPathface = os.path.dirname(cv2.__file__) + \"/data/haarcascade_frontalface_alt2.xml\"\n",
    "            faceCascade = cv2.CascadeClassifier(cascPathface)\n",
    "            faces = faceCascade.detectMultiScale(gray,\n",
    "                                         scaleFactor=1.1,\n",
    "                                         minNeighbors=5,\n",
    "                                         minSize=(60, 60),\n",
    "                                         flags=cv2.CASCADE_SCALE_IMAGE)\n",
    "            print(\"Face coordinates = \",faces)\n",
    "            try:\n",
    "                for (x, y, w, h) in faces:\n",
    "                    cv2.rectangle(rgb, (x, y), (x+w, y+h), \n",
    "                                (0, 0, 255), 2)\n",
    "                    faces = rgb[y:y + h, x:x + w]\n",
    "                print(\"shape of face = \",faces.shape)       \n",
    "                cv2.imwrite('face.jpg', faces)\n",
    "                encodings = face_recognition.face_encodings(faces)\n",
    "                if(len(encodings)==1):\n",
    "                    dat['encodings'].append(encodings)\n",
    "                    dat['names'].append(fol)\n",
    "                else:\n",
    "                    continue\n",
    "            except:\n",
    "                print(\"no face found\")\n",
    "    fi = open(\"face_enc (1)\", \"wb\")\n",
    "    fi.write(pickle.dumps(dat))\n",
    "    fi.close()"
   ]
  },
  {
   "cell_type": "code",
   "execution_count": 150,
   "metadata": {},
   "outputs": [
    {
     "name": "stdout",
     "output_type": "stream",
     "text": [
      "Images/Ansh Tandon/1726480e-2dfa-44e3-a3b2-d769637147f3.jpg\n",
      "(867, 1156, 3)\n",
      "Face coordinates =  [[577 420  88  88]]\n",
      "shape of face =  (88, 88, 3)\n",
      "Images/Ansh Tandon/7f7342e8-d9cb-4bd4-917b-6fd2b74a4861.jpg\n",
      "(1156, 867, 3)\n",
      "Face coordinates =  ()\n",
      "no face found\n",
      "Images/Ansh Tandon/96b1b113-8cf7-43ba-a0b0-73d928af718a.jpg\n",
      "(1156, 867, 3)\n",
      "Face coordinates =  [[302 326 135 135]]\n",
      "shape of face =  (135, 135, 3)\n",
      "Images/Ansh Tandon/acba6ffd-2b90-410a-bcf4-80889fa9646a.jpg\n",
      "(1600, 1200, 3)\n",
      "Face coordinates =  ()\n",
      "no face found\n",
      "Images/Ansh Tandon/ansh1.jpg\n",
      "(1245, 812, 3)\n",
      "Face coordinates =  [[249 227 278 278]]\n",
      "shape of face =  (278, 278, 3)\n",
      "Images/Ansh Tandon/e68958f8-f0f8-47cc-9f75-25c615a1cf57.jpg\n",
      "(1280, 720, 3)\n",
      "Face coordinates =  [[242 241 279 279]]\n",
      "shape of face =  (279, 279, 3)\n",
      "Images/Saksham Dwivedi/IMG-20220217-WA0030.jpg\n",
      "(1280, 583, 3)\n",
      "Face coordinates =  ()\n",
      "no face found\n",
      "Images/Saksham Dwivedi/IMG_20220216_225728~2.jpg\n",
      "(2196, 1824, 3)\n",
      "Face coordinates =  [[673 602 376 376]]\n",
      "shape of face =  (376, 376, 3)\n",
      "Images/Saksham Dwivedi/PhotoGrid_Plus_1645121713111.png\n",
      "(1080, 1080, 3)\n",
      "Face coordinates =  ()\n",
      "no face found\n",
      "Images/Saksham Dwivedi/photo_2022-05-07_10-14-42.jpg\n",
      "(1280, 960, 3)\n",
      "Face coordinates =  [[378 270 150 150]]\n",
      "shape of face =  (150, 150, 3)\n",
      "Images/Saksham Dwivedi/photo_2022-05-07_10-14-59.jpg\n",
      "(1280, 960, 3)\n",
      "Face coordinates =  [[302 269 167 167]]\n",
      "shape of face =  (167, 167, 3)\n",
      "Images/Saksham Dwivedi/photo_2022-05-07_10-15-02.jpg\n",
      "(1280, 960, 3)\n",
      "Face coordinates =  [[376 210 172 172]]\n",
      "shape of face =  (172, 172, 3)\n",
      "Images/Saksham Dwivedi/photo_2022-05-07_10-15-04.jpg\n",
      "(1280, 590, 3)\n",
      "Face coordinates =  ()\n",
      "no face found\n",
      "Images/Saksham Dwivedi/Screenshot_20200327-150644~2.jpg\n",
      "(522, 431, 3)\n",
      "Face coordinates =  [[116  81 226 226]]\n",
      "shape of face =  (226, 226, 3)\n",
      "Images/Tarun Srivastava/1e268cf8-63ca-4171-ad3c-c0253f635a3b.jpg\n",
      "(1599, 1200, 3)\n",
      "Face coordinates =  [[256 336 541 541]]\n",
      "shape of face =  (541, 541, 3)\n",
      "Images/Tarun Srivastava/26522f83-c649-4ec2-a9e0-e3329f520d6b.jpg\n",
      "(1599, 1200, 3)\n",
      "Face coordinates =  ()\n",
      "no face found\n",
      "Images/Tarun Srivastava/29ca47e6-73b9-4ea5-a284-00cdc86779b7.jpg\n",
      "(1599, 1200, 3)\n",
      "Face coordinates =  ()\n",
      "no face found\n",
      "Images/Tarun Srivastava/3c186b33-e6fc-4da4-a4eb-3e69b30dc3f8.jpg\n",
      "(1599, 1200, 3)\n",
      "Face coordinates =  [[158 620 551 551]]\n",
      "shape of face =  (551, 551, 3)\n",
      "Images/Tarun Srivastava/7fae4b5e-216a-435f-bb23-8ae909687e85.jpg\n",
      "(1600, 1200, 3)\n",
      "Face coordinates =  [[315 640 540 540]]\n",
      "shape of face =  (540, 540, 3)\n",
      "Images/Tarun Srivastava/80c0385d-f0ba-43b8-a79c-bfda7c8684d6.jpg\n",
      "(1599, 1200, 3)\n",
      "Face coordinates =  [[315 478 391 391]]\n",
      "shape of face =  (391, 391, 3)\n"
     ]
    }
   ],
   "source": [
    "reset()"
   ]
  },
  {
   "cell_type": "code",
   "execution_count": null,
   "metadata": {},
   "outputs": [],
   "source": []
  },
  {
   "cell_type": "code",
   "execution_count": 169,
   "metadata": {},
   "outputs": [],
   "source": [
    "data = pickle.loads(open('face_enc (1)', \"rb\").read())"
   ]
  },
  {
   "cell_type": "code",
   "execution_count": 170,
   "metadata": {},
   "outputs": [
    {
     "data": {
      "text/plain": [
       "14"
      ]
     },
     "execution_count": 170,
     "metadata": {},
     "output_type": "execute_result"
    }
   ],
   "source": [
    "len(data['encodings'])"
   ]
  },
  {
   "cell_type": "code",
   "execution_count": 2,
   "metadata": {},
   "outputs": [],
   "source": [
    "from scipy.misc import face\n",
    "import face_recognition\n",
    "import pickle\n",
    "import cv2\n",
    "import base64\n",
    "import os\n",
    "import io\n",
    "import numpy as np\n",
    "from PIL import Image"
   ]
  },
  {
   "cell_type": "code",
   "execution_count": 151,
   "metadata": {},
   "outputs": [],
   "source": [
    "def update(image,dict_npb):\n",
    "    rgb = cv2.cvtColor(image, cv2.COLOR_BGR2RGB)\n",
    "    gray = cv2.cvtColor(image, cv2.COLOR_BGR2GRAY)\n",
    "    cascPathface = os.path.dirname(cv2.__file__) + \"/data/haarcascade_frontalface_alt2.xml\"\n",
    "    faceCascade = cv2.CascadeClassifier(cascPathface)\n",
    "    faces = faceCascade.detectMultiScale(gray,\n",
    "                                         scaleFactor=1.1,\n",
    "                                         minNeighbors=5,\n",
    "                                         minSize=(60, 60),\n",
    "                                         flags=cv2.CASCADE_SCALE_IMAGE)\n",
    "    try:\n",
    "        for (x, y, w, h) in faces:\n",
    "            cv2.rectangle(rgb, (x, y), (x+w, y+h), \n",
    "                        (0, 0, 255), 2)\n",
    "            faces = rgb[y:y + h, x:x + w]       \n",
    "        cv2.imwrite('face.jpg', faces)             \n",
    "        encodings = face_recognition.face_encodings(faces)\n",
    "        if(len(encodings)>1):\n",
    "            print('More than one face detected need single face')\n",
    "        else:\n",
    "            list_names=os.listdir('Images/')\n",
    "            data = pickle.loads(open('face_enc (1)', \"rb\").read())\n",
    "            if dict_npb['name'] in list_names:\n",
    "                cv2.imwrite('Images/'+dict_npb['name']+'/'+str(np.random.randint(1,10000000))+'.jpg',image)\n",
    "                data['encodings'].append(encodings)\n",
    "                data['names'].append(dict_npb['name'])\n",
    "            else:\n",
    "                os.mkdir('Images/'+dict_npb['name'])\n",
    "                cv2.imwrite('Images/'+dict_npb['name']+'/'+str(np.random.randint(1,10000000))+'.jpg',image)\n",
    "                data1 = pickle.loads(open('usernpb', \"rb\").read())\n",
    "                data['encodings'].append(encodings)\n",
    "                data['names'].append(dict_npb['name'])\n",
    "                data1['name'].append(dict_npb['name'])\n",
    "                data1['place'].append(dict_npb['place'])\n",
    "                data1['branch'].append(dict_npb['branch'])\n",
    "                data1['year'].append(dict_npb['year'])\n",
    "                data1['studying'].append(dict_npb['studying'])\n",
    "                fi = open(\"usernpb\", \"wb\")\n",
    "                fi.write(pickle.dumps(data1))\n",
    "                fi.close()\n",
    "            \n",
    "            fi = open(\"face_enc (1)\", \"wb\")\n",
    "            fi.write(pickle.dumps(data))\n",
    "            fi.close()\n",
    "            print('Updated data')\n",
    "    except:\n",
    "        print(\"Face not detected\")"
   ]
  },
  {
   "cell_type": "code",
   "execution_count": 152,
   "metadata": {},
   "outputs": [],
   "source": [
    "dict_np={'name':'Prakhar Pratap Mall','place':'Kanpur','branch':'EE','year':'2nd','studying':'GP'}\n",
    "img=cv2.imread('prakhar.jpg')"
   ]
  },
  {
   "cell_type": "code",
   "execution_count": 154,
   "metadata": {},
   "outputs": [
    {
     "name": "stdout",
     "output_type": "stream",
     "text": [
      "Updated data\n"
     ]
    }
   ],
   "source": [
    "update(img,dict_np)"
   ]
  },
  {
   "cell_type": "code",
   "execution_count": 174,
   "metadata": {},
   "outputs": [],
   "source": [
    "def predict(image):\n",
    "    cascPathface = os.path.dirname(cv2.__file__) + \"/data/haarcascade_frontalface_alt2.xml\"\n",
    "    faceCascade = cv2.CascadeClassifier(cascPathface)\n",
    "    data = pickle.loads(open('face_enc (1)', \"rb\").read())\n",
    "    data1 = pickle.loads(open('usernpb', \"rb\").read())\n",
    "\n",
    "    rgb = cv2.cvtColor(image, cv2.COLOR_BGR2RGB)\n",
    "    gray = cv2.cvtColor(image, cv2.COLOR_BGR2GRAY)\n",
    "    faces = faceCascade.detectMultiScale(gray,\n",
    "                                         scaleFactor=1.1,\n",
    "                                         minNeighbors=5,\n",
    "                                         minSize=(60, 60),\n",
    "                                         flags=cv2.CASCADE_SCALE_IMAGE)\n",
    "\n",
    "\n",
    "    try:\n",
    "        for (x, y, w, h) in faces:\n",
    "            cv2.rectangle(rgb, (x, y), (x+w, y+h), \n",
    "                        (0, 0, 255), 2)\n",
    "            faces = rgb[y:y + h, x:x + w]       \n",
    "        cv2.imwrite('face.jpg', faces)   \n",
    "\n",
    "        encodings = face_recognition.face_encodings(faces)\n",
    "        names = []\n",
    "\n",
    "        print('Number of encodings',len(encodings))\n",
    "\n",
    "        for encoding in encodings:\n",
    "            matches = face_recognition.compare_faces(data[\"encodings\"],\n",
    "                                                    encoding)\n",
    "            \n",
    "            print(len(matches))\n",
    "            print(len(matches[0]))\n",
    "            \n",
    "            \n",
    "            name = \"Unknown\"\n",
    "            if True in matches:\n",
    "                matchedIdxs = [i for (i, b) in enumerate(matches) if b]\n",
    "                counts = {}\n",
    "                for i in matchedIdxs:\n",
    "                    name = data[\"names\"][i]\n",
    "                    counts[name] = counts.get(name, 0) + 1\n",
    "                    name = max(counts, key=counts.get)\n",
    "\n",
    "                names.append(name)\n",
    "                \"\"\"for ((x, y, w, h), name) in zip(faces, names):\n",
    "                    cv2.rectangle(image, (x, y), (x + w, y + h), (0, 255, 0), 2)\n",
    "                    cv2.putText(image, name, (x, y), cv2.FONT_HERSHEY_SIMPLEX,\n",
    "                                0.75, (0, 255, 0), 2)\"\"\"\n",
    "\n",
    "        fin_name=max(set(names),key=names.count)\n",
    "        index=data1[\"name\"].index(fin_name)\n",
    "        place=data1[\"place\"][index]\n",
    "        branch=data1[\"branch\"][index]\n",
    "        year=data1['year'][index]\n",
    "        studying=data1['studying'][index]\n",
    "        imgs=list(os.listdir('Images/'+index))\n",
    "\n",
    "\n",
    "        # img = data1[\"image\"][index]\n",
    "\n",
    "        img=cv2.imread('Images/'+index+'/'+imgs[0])\n",
    "        rawBytes = io.BytesIO()\n",
    "        img.save(rawBytes, \"JPEG\")\n",
    "        rawBytes.seek(0)\n",
    "        img_base64 = base64.b64encode(rawBytes.read())\n",
    "        result={'name':fin_name,'place':place,'branch':branch,'image':str(img_base64),'year':year}\n",
    "\n",
    "    except:\n",
    "        print(\"Face not detected\")\n",
    "        result={'name':'','place':'','branch':'','image':'','year':''}\n",
    "        \n",
    "        return \n",
    "\n",
    "    return result"
   ]
  },
  {
   "cell_type": "code",
   "execution_count": 175,
   "metadata": {},
   "outputs": [],
   "source": [
    "img=cv2.imread(r'prakhar.jpg')"
   ]
  },
  {
   "cell_type": "code",
   "execution_count": 176,
   "metadata": {},
   "outputs": [
    {
     "name": "stdout",
     "output_type": "stream",
     "text": [
      "Number of encodings 1\n",
      "14\n",
      "128\n",
      "Face not detected\n"
     ]
    },
    {
     "ename": "",
     "evalue": "",
     "output_type": "error",
     "traceback": [
      "\u001b[1;31mThe Kernel crashed while executing code in the the current cell or a previous cell. Please review the code in the cell(s) to identify a possible cause of the failure. Click <a href='https://aka.ms/vscodeJupyterKernelCrash'>here</a> for more info. View Jupyter <a href='command:jupyter.viewOutput'>log</a> for further details."
     ]
    }
   ],
   "source": [
    "res=predict(img)"
   ]
  },
  {
   "cell_type": "code",
   "execution_count": 60,
   "metadata": {},
   "outputs": [],
   "source": [
    "data1 = pickle.loads(open('usernpb', \"rb\").read())"
   ]
  },
  {
   "cell_type": "code",
   "execution_count": 64,
   "metadata": {},
   "outputs": [],
   "source": [
    "data1['place'].append('fsgfg')"
   ]
  },
  {
   "cell_type": "code",
   "execution_count": 83,
   "metadata": {},
   "outputs": [],
   "source": [
    "img=cv2.imread(r'Images\\Tarun Srivastava\\1e268cf8-63ca-4171-ad3c-c0253f635a3b.jpg')"
   ]
  },
  {
   "cell_type": "code",
   "execution_count": 55,
   "metadata": {},
   "outputs": [
    {
     "data": {
      "text/plain": [
       "True"
      ]
     },
     "execution_count": 55,
     "metadata": {},
     "output_type": "execute_result"
    }
   ],
   "source": [
    "cv2.imwrite('Images/'+'Prakhar Pratap Mall'+'/'+str(np.random.randint(1,10000000))+'.jpg',img)"
   ]
  },
  {
   "cell_type": "code",
   "execution_count": 52,
   "metadata": {},
   "outputs": [
    {
     "name": "stdout",
     "output_type": "stream",
     "text": [
      "Images/Prakhar Pratap Mall/820341\n"
     ]
    }
   ],
   "source": [
    "print('Images/'+'Prakhar Pratap Mall'+'/'+str(np.random.randint(1,10000000)))"
   ]
  },
  {
   "cell_type": "code",
   "execution_count": 21,
   "metadata": {},
   "outputs": [
    {
     "name": "stdout",
     "output_type": "stream",
     "text": [
      "[[[245 243 242]\n",
      "  [245 243 242]\n",
      "  [245 243 242]\n",
      "  ...\n",
      "  [227 227 233]\n",
      "  [227 227 233]\n",
      "  [227 227 233]]\n",
      "\n",
      " [[245 243 242]\n",
      "  [245 243 242]\n",
      "  [245 243 242]\n",
      "  ...\n",
      "  [227 227 233]\n",
      "  [227 227 233]\n",
      "  [227 227 233]]\n",
      "\n",
      " [[245 243 242]\n",
      "  [245 243 242]\n",
      "  [245 243 242]\n",
      "  ...\n",
      "  [227 228 232]\n",
      "  [227 228 232]\n",
      "  [227 228 232]]\n",
      "\n",
      " ...\n",
      "\n",
      " [[137 147 157]\n",
      "  [153 163 173]\n",
      "  [150 160 170]\n",
      "  ...\n",
      "  [ 41  62  47]\n",
      "  [ 52  71  56]\n",
      "  [ 57  76  61]]\n",
      "\n",
      " [[123 134 142]\n",
      "  [145 156 164]\n",
      "  [144 155 163]\n",
      "  ...\n",
      "  [ 38  61  46]\n",
      "  [ 51  70  55]\n",
      "  [ 56  75  60]]\n",
      "\n",
      " [[109 120 128]\n",
      "  [138 149 157]\n",
      "  [141 152 160]\n",
      "  ...\n",
      "  [ 36  59  44]\n",
      "  [ 50  69  54]\n",
      "  [ 56  75  60]]]\n"
     ]
    }
   ],
   "source": [
    "print(img)"
   ]
  },
  {
   "cell_type": "code",
   "execution_count": 3,
   "metadata": {},
   "outputs": [],
   "source": [
    "data = pickle.loads(open('face_enc (1)', \"rb\").read())\n",
    "data1 = pickle.loads(open('user_data (1)', \"rb\").read())\n"
   ]
  },
  {
   "cell_type": "code",
   "execution_count": 6,
   "metadata": {},
   "outputs": [
    {
     "data": {
      "text/plain": [
       "584"
      ]
     },
     "execution_count": 6,
     "metadata": {},
     "output_type": "execute_result"
    }
   ],
   "source": [
    "len(data['encodings'])"
   ]
  },
  {
   "cell_type": "code",
   "execution_count": 21,
   "metadata": {},
   "outputs": [
    {
     "data": {
      "text/plain": [
       "dict_keys(['encodings', 'names'])"
      ]
     },
     "execution_count": 21,
     "metadata": {},
     "output_type": "execute_result"
    }
   ],
   "source": [
    "data.keys()"
   ]
  },
  {
   "cell_type": "code",
   "execution_count": 9,
   "metadata": {},
   "outputs": [
    {
     "data": {
      "text/plain": [
       "584"
      ]
     },
     "execution_count": 9,
     "metadata": {},
     "output_type": "execute_result"
    }
   ],
   "source": [
    "len(data['names'])"
   ]
  },
  {
   "cell_type": "code",
   "execution_count": 15,
   "metadata": {},
   "outputs": [
    {
     "data": {
      "text/plain": [
       "['Machine Learning',\n",
       " 'Android Development',\n",
       " 'Competitive Programming',\n",
       " 'Competitive Programming',\n",
       " 'Vlogging',\n",
       " 'Electronics Core']"
      ]
     },
     "execution_count": 15,
     "metadata": {},
     "output_type": "execute_result"
    }
   ],
   "source": [
    "data1['studying']\n"
   ]
  },
  {
   "cell_type": "code",
   "execution_count": 16,
   "metadata": {},
   "outputs": [],
   "source": [
    "dict_npb={'name':['Saksham Dwivedi','Ansh Tandon','Prakhar Pratap Mall','Tarun Srivastava','Akash Gupta'],'place':['Gorakhpur Uttar Pradesh','Lakhimpurkhiri Uttar Pradesh','Kanpur ','Agra','France'],'branch':['PE','EE','EE','EE','ECE'],'year':[2,2,2,2,2],'studying':['Machine Learning','Android Development','Competitive Programming','Competitive Programming','Vlogging']}"
   ]
  },
  {
   "cell_type": "code",
   "execution_count": 17,
   "metadata": {},
   "outputs": [],
   "source": [
    "fi = open(\"usernpb\", \"wb\")\n",
    "fi.write(pickle.dumps(dict_npb))\n",
    "fi.close()"
   ]
  },
  {
   "cell_type": "code",
   "execution_count": 20,
   "metadata": {},
   "outputs": [],
   "source": [
    "dict_npb = pickle.loads(open('usernpb', \"rb\").read())"
   ]
  },
  {
   "cell_type": "code",
   "execution_count": 19,
   "metadata": {},
   "outputs": [
    {
     "data": {
      "text/plain": [
       "dict_keys(['name', 'place', 'branch', 'year', 'studying'])"
      ]
     },
     "execution_count": 19,
     "metadata": {},
     "output_type": "execute_result"
    }
   ],
   "source": [
    "dict_npb.keys()"
   ]
  },
  {
   "cell_type": "code",
   "execution_count": null,
   "metadata": {},
   "outputs": [],
   "source": []
  }
 ],
 "metadata": {
  "interpreter": {
   "hash": "23d834098c3fe00c5d2e479aa8a577201cd9d5c2d399a01ac76430d299c2d6ea"
  },
  "kernelspec": {
   "display_name": "Python 3.8.13 ('face_reco')",
   "language": "python",
   "name": "python3"
  },
  "language_info": {
   "codemirror_mode": {
    "name": "ipython",
    "version": 3
   },
   "file_extension": ".py",
   "mimetype": "text/x-python",
   "name": "python",
   "nbconvert_exporter": "python",
   "pygments_lexer": "ipython3",
   "version": "3.8.13"
  },
  "orig_nbformat": 4
 },
 "nbformat": 4,
 "nbformat_minor": 2
}
